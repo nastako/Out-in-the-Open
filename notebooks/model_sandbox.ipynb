{
 "cells": [
  {
   "cell_type": "code",
   "execution_count": 1,
   "metadata": {
    "collapsed": true
   },
   "outputs": [],
   "source": [
    "from __future__ import print_function"
   ]
  },
  {
   "cell_type": "code",
   "execution_count": 2,
   "metadata": {
    "collapsed": true
   },
   "outputs": [],
   "source": [
    "import pandas as pd\n",
    "import numpy as np\n",
    "import sqlite3\n",
    "import seaborn as sns\n",
    "import matplotlib.pyplot as plt\n",
    "from bokeh.plotting import figure, output_file, show\n",
    "from altair import Row, Column, Chart, Text, Scale, Color, X, Y, Bin, SortField\n",
    "import json"
   ]
  },
  {
   "cell_type": "code",
   "execution_count": 29,
   "metadata": {
    "collapsed": false
   },
   "outputs": [
    {
     "name": "stderr",
     "output_type": "stream",
     "text": [
      "/Users/kbalk/anaconda/lib/python2.7/site-packages/sklearn/cross_validation.py:44: DeprecationWarning: This module was deprecated in version 0.18 in favor of the model_selection module into which all the refactored classes and functions are moved. Also note that the interface of the new CV iterators are different from that of this module. This module will be removed in 0.20.\n",
      "  \"This module will be removed in 0.20.\", DeprecationWarning)\n"
     ]
    }
   ],
   "source": [
    "from sklearn import linear_model\n",
    "from sklearn.ensemble import RandomForestRegressor\n",
    "from sklearn.metrics import mean_squared_error\n",
    "from sklearn.cross_validation import train_test_split"
   ]
  },
  {
   "cell_type": "code",
   "execution_count": 3,
   "metadata": {
    "collapsed": true
   },
   "outputs": [],
   "source": [
    "from library.data_connect import *\n",
    "from library.plot_tools import *"
   ]
  },
  {
   "cell_type": "code",
   "execution_count": 9,
   "metadata": {
    "collapsed": true
   },
   "outputs": [],
   "source": [
    "pd.set_option(\"display.max_columns\",None)"
   ]
  },
  {
   "cell_type": "markdown",
   "metadata": {},
   "source": [
    "Pull Data"
   ]
  },
  {
   "cell_type": "code",
   "execution_count": 43,
   "metadata": {
    "collapsed": true
   },
   "outputs": [],
   "source": [
    "results_df = get_results_old(division=1, stages='all')"
   ]
  },
  {
   "cell_type": "code",
   "execution_count": 44,
   "metadata": {
    "collapsed": false
   },
   "outputs": [
    {
     "data": {
      "text/html": [
       "<div>\n",
       "<table border=\"1\" class=\"dataframe\">\n",
       "  <thead>\n",
       "    <tr style=\"text-align: right;\">\n",
       "      <th></th>\n",
       "      <th>index</th>\n",
       "      <th>athlete_id</th>\n",
       "      <th>division</th>\n",
       "      <th>14.1</th>\n",
       "      <th>14.2</th>\n",
       "      <th>14.3</th>\n",
       "      <th>14.4</th>\n",
       "      <th>14.5</th>\n",
       "      <th>15.1</th>\n",
       "      <th>15.11</th>\n",
       "      <th>15.2</th>\n",
       "      <th>15.3</th>\n",
       "      <th>15.4</th>\n",
       "      <th>15.5</th>\n",
       "      <th>13.1</th>\n",
       "      <th>13.2</th>\n",
       "      <th>13.3</th>\n",
       "      <th>13.4</th>\n",
       "      <th>13.5</th>\n",
       "      <th>name</th>\n",
       "      <th>region</th>\n",
       "      <th>team</th>\n",
       "      <th>affiliate</th>\n",
       "      <th>gender</th>\n",
       "      <th>age</th>\n",
       "      <th>height</th>\n",
       "      <th>weight</th>\n",
       "      <th>fran</th>\n",
       "      <th>helen</th>\n",
       "      <th>grace</th>\n",
       "      <th>filthy50</th>\n",
       "      <th>fgonebad</th>\n",
       "      <th>run400</th>\n",
       "      <th>run5k</th>\n",
       "      <th>candj</th>\n",
       "      <th>snatch</th>\n",
       "      <th>deadlift</th>\n",
       "      <th>backsq</th>\n",
       "      <th>pullups</th>\n",
       "      <th>gender_num</th>\n",
       "    </tr>\n",
       "  </thead>\n",
       "  <tbody>\n",
       "    <tr>\n",
       "      <th>0</th>\n",
       "      <td>0</td>\n",
       "      <td>82</td>\n",
       "      <td>1</td>\n",
       "      <td>169.0</td>\n",
       "      <td>35.0</td>\n",
       "      <td>93.0</td>\n",
       "      <td>160.0</td>\n",
       "      <td>1568.0</td>\n",
       "      <td>NaN</td>\n",
       "      <td>NaN</td>\n",
       "      <td>NaN</td>\n",
       "      <td>NaN</td>\n",
       "      <td>NaN</td>\n",
       "      <td>NaN</td>\n",
       "      <td>100.0</td>\n",
       "      <td>193.0</td>\n",
       "      <td>154.0</td>\n",
       "      <td>36.0</td>\n",
       "      <td>23.0</td>\n",
       "      <td>Adam Reed</td>\n",
       "      <td>Northern California</td>\n",
       "      <td>Games Team 2</td>\n",
       "      <td>Container CrossFit</td>\n",
       "      <td>Male</td>\n",
       "      <td>28.0</td>\n",
       "      <td>73.0</td>\n",
       "      <td>192.0</td>\n",
       "      <td>NaN</td>\n",
       "      <td>NaN</td>\n",
       "      <td>NaN</td>\n",
       "      <td>NaN</td>\n",
       "      <td>0.0</td>\n",
       "      <td>82.0</td>\n",
       "      <td>1440.0</td>\n",
       "      <td>175.0</td>\n",
       "      <td>0.0</td>\n",
       "      <td>280.0</td>\n",
       "      <td>225.0</td>\n",
       "      <td>2.0</td>\n",
       "      <td>1.0</td>\n",
       "    </tr>\n",
       "    <tr>\n",
       "      <th>1</th>\n",
       "      <td>1</td>\n",
       "      <td>83</td>\n",
       "      <td>1</td>\n",
       "      <td>NaN</td>\n",
       "      <td>NaN</td>\n",
       "      <td>NaN</td>\n",
       "      <td>NaN</td>\n",
       "      <td>NaN</td>\n",
       "      <td>NaN</td>\n",
       "      <td>NaN</td>\n",
       "      <td>NaN</td>\n",
       "      <td>NaN</td>\n",
       "      <td>NaN</td>\n",
       "      <td>NaN</td>\n",
       "      <td>40.0</td>\n",
       "      <td>123.0</td>\n",
       "      <td>NaN</td>\n",
       "      <td>NaN</td>\n",
       "      <td>NaN</td>\n",
       "      <td>Bill McGair</td>\n",
       "      <td></td>\n",
       "      <td></td>\n",
       "      <td></td>\n",
       "      <td>Male</td>\n",
       "      <td>47.0</td>\n",
       "      <td>NaN</td>\n",
       "      <td>NaN</td>\n",
       "      <td>NaN</td>\n",
       "      <td>NaN</td>\n",
       "      <td>NaN</td>\n",
       "      <td>NaN</td>\n",
       "      <td>NaN</td>\n",
       "      <td>NaN</td>\n",
       "      <td>NaN</td>\n",
       "      <td>NaN</td>\n",
       "      <td>NaN</td>\n",
       "      <td>NaN</td>\n",
       "      <td>NaN</td>\n",
       "      <td>NaN</td>\n",
       "      <td>1.0</td>\n",
       "    </tr>\n",
       "    <tr>\n",
       "      <th>2</th>\n",
       "      <td>2</td>\n",
       "      <td>84</td>\n",
       "      <td>1</td>\n",
       "      <td>308.0</td>\n",
       "      <td>137.0</td>\n",
       "      <td>139.0</td>\n",
       "      <td>187.0</td>\n",
       "      <td>887.0</td>\n",
       "      <td>153.0</td>\n",
       "      <td>205.0</td>\n",
       "      <td>125.0</td>\n",
       "      <td>356.0</td>\n",
       "      <td>97.0</td>\n",
       "      <td>717.0</td>\n",
       "      <td>158.0</td>\n",
       "      <td>300.0</td>\n",
       "      <td>260.0</td>\n",
       "      <td>91.0</td>\n",
       "      <td>109.0</td>\n",
       "      <td>Ryan Johnston</td>\n",
       "      <td>Northern California</td>\n",
       "      <td>LaLanne Fitness CrossFit</td>\n",
       "      <td>LaLanne Fitness CrossFit</td>\n",
       "      <td>Male</td>\n",
       "      <td>25.0</td>\n",
       "      <td>68.0</td>\n",
       "      <td>160.0</td>\n",
       "      <td>182.0</td>\n",
       "      <td>NaN</td>\n",
       "      <td>146.0</td>\n",
       "      <td>1406.0</td>\n",
       "      <td>322.0</td>\n",
       "      <td>NaN</td>\n",
       "      <td>1162.0</td>\n",
       "      <td>215.0</td>\n",
       "      <td>195.0</td>\n",
       "      <td>450.0</td>\n",
       "      <td>330.0</td>\n",
       "      <td>NaN</td>\n",
       "      <td>1.0</td>\n",
       "    </tr>\n",
       "  </tbody>\n",
       "</table>\n",
       "</div>"
      ],
      "text/plain": [
       "   index  athlete_id  division   14.1   14.2   14.3   14.4    14.5   15.1  \\\n",
       "0      0          82         1  169.0   35.0   93.0  160.0  1568.0    NaN   \n",
       "1      1          83         1    NaN    NaN    NaN    NaN     NaN    NaN   \n",
       "2      2          84         1  308.0  137.0  139.0  187.0   887.0  153.0   \n",
       "\n",
       "   15.11   15.2   15.3  15.4   15.5   13.1   13.2   13.3  13.4   13.5  \\\n",
       "0    NaN    NaN    NaN   NaN    NaN  100.0  193.0  154.0  36.0   23.0   \n",
       "1    NaN    NaN    NaN   NaN    NaN   40.0  123.0    NaN   NaN    NaN   \n",
       "2  205.0  125.0  356.0  97.0  717.0  158.0  300.0  260.0  91.0  109.0   \n",
       "\n",
       "            name               region                      team  \\\n",
       "0      Adam Reed  Northern California              Games Team 2   \n",
       "1    Bill McGair                                                  \n",
       "2  Ryan Johnston  Northern California  LaLanne Fitness CrossFit   \n",
       "\n",
       "                  affiliate gender   age  height  weight   fran  helen  grace  \\\n",
       "0        Container CrossFit   Male  28.0    73.0   192.0    NaN    NaN    NaN   \n",
       "1                             Male  47.0     NaN     NaN    NaN    NaN    NaN   \n",
       "2  LaLanne Fitness CrossFit   Male  25.0    68.0   160.0  182.0    NaN  146.0   \n",
       "\n",
       "   filthy50  fgonebad  run400   run5k  candj  snatch  deadlift  backsq  \\\n",
       "0       NaN       0.0    82.0  1440.0  175.0     0.0     280.0   225.0   \n",
       "1       NaN       NaN     NaN     NaN    NaN     NaN       NaN     NaN   \n",
       "2    1406.0     322.0     NaN  1162.0  215.0   195.0     450.0   330.0   \n",
       "\n",
       "   pullups  gender_num  \n",
       "0      2.0         1.0  \n",
       "1      NaN         1.0  \n",
       "2      NaN         1.0  "
      ]
     },
     "execution_count": 44,
     "metadata": {},
     "output_type": "execute_result"
    }
   ],
   "source": [
    "results_df.head(3)"
   ]
  },
  {
   "cell_type": "markdown",
   "metadata": {},
   "source": [
    "Replace NaN"
   ]
  },
  {
   "cell_type": "code",
   "execution_count": 47,
   "metadata": {
    "collapsed": false
   },
   "outputs": [
    {
     "data": {
      "text/html": [
       "<div>\n",
       "<table border=\"1\" class=\"dataframe\">\n",
       "  <thead>\n",
       "    <tr style=\"text-align: right;\">\n",
       "      <th></th>\n",
       "      <th>index</th>\n",
       "      <th>athlete_id</th>\n",
       "      <th>division</th>\n",
       "      <th>14.1</th>\n",
       "      <th>14.2</th>\n",
       "      <th>14.3</th>\n",
       "      <th>14.4</th>\n",
       "      <th>14.5</th>\n",
       "      <th>15.1</th>\n",
       "      <th>15.11</th>\n",
       "      <th>15.2</th>\n",
       "      <th>15.3</th>\n",
       "      <th>15.4</th>\n",
       "      <th>15.5</th>\n",
       "      <th>13.1</th>\n",
       "      <th>13.2</th>\n",
       "      <th>13.3</th>\n",
       "      <th>13.4</th>\n",
       "      <th>13.5</th>\n",
       "      <th>name</th>\n",
       "      <th>region</th>\n",
       "      <th>team</th>\n",
       "      <th>affiliate</th>\n",
       "      <th>gender</th>\n",
       "      <th>age</th>\n",
       "      <th>height</th>\n",
       "      <th>weight</th>\n",
       "      <th>fran</th>\n",
       "      <th>helen</th>\n",
       "      <th>grace</th>\n",
       "      <th>filthy50</th>\n",
       "      <th>fgonebad</th>\n",
       "      <th>run400</th>\n",
       "      <th>run5k</th>\n",
       "      <th>candj</th>\n",
       "      <th>snatch</th>\n",
       "      <th>deadlift</th>\n",
       "      <th>backsq</th>\n",
       "      <th>pullups</th>\n",
       "      <th>gender_num</th>\n",
       "    </tr>\n",
       "  </thead>\n",
       "  <tbody>\n",
       "    <tr>\n",
       "      <th>2</th>\n",
       "      <td>2</td>\n",
       "      <td>84</td>\n",
       "      <td>1</td>\n",
       "      <td>308.0</td>\n",
       "      <td>137.0</td>\n",
       "      <td>139.0</td>\n",
       "      <td>187.0</td>\n",
       "      <td>887.0</td>\n",
       "      <td>153.0</td>\n",
       "      <td>205.0</td>\n",
       "      <td>125.0</td>\n",
       "      <td>356.0</td>\n",
       "      <td>97.0</td>\n",
       "      <td>717.0</td>\n",
       "      <td>158.0</td>\n",
       "      <td>300.0</td>\n",
       "      <td>260.0</td>\n",
       "      <td>91.0</td>\n",
       "      <td>109.0</td>\n",
       "      <td>Ryan Johnston</td>\n",
       "      <td>Northern California</td>\n",
       "      <td>LaLanne Fitness CrossFit</td>\n",
       "      <td>LaLanne Fitness CrossFit</td>\n",
       "      <td>Male</td>\n",
       "      <td>25.0</td>\n",
       "      <td>68.0</td>\n",
       "      <td>160.0</td>\n",
       "      <td>182.0</td>\n",
       "      <td>-99.0</td>\n",
       "      <td>146.0</td>\n",
       "      <td>1406.0</td>\n",
       "      <td>322.0</td>\n",
       "      <td>-99.0</td>\n",
       "      <td>1162.0</td>\n",
       "      <td>215.0</td>\n",
       "      <td>195.0</td>\n",
       "      <td>450.0</td>\n",
       "      <td>330.0</td>\n",
       "      <td>-99.0</td>\n",
       "      <td>1.0</td>\n",
       "    </tr>\n",
       "    <tr>\n",
       "      <th>3</th>\n",
       "      <td>3</td>\n",
       "      <td>86</td>\n",
       "      <td>1</td>\n",
       "      <td>306.0</td>\n",
       "      <td>132.0</td>\n",
       "      <td>111.0</td>\n",
       "      <td>190.0</td>\n",
       "      <td>1051.0</td>\n",
       "      <td>149.0</td>\n",
       "      <td>232.0</td>\n",
       "      <td>117.0</td>\n",
       "      <td>342.0</td>\n",
       "      <td>46.0</td>\n",
       "      <td>518.0</td>\n",
       "      <td>156.0</td>\n",
       "      <td>271.0</td>\n",
       "      <td>255.0</td>\n",
       "      <td>87.0</td>\n",
       "      <td>76.0</td>\n",
       "      <td>Justin Bergh</td>\n",
       "      <td>Northern California</td>\n",
       "      <td></td>\n",
       "      <td>Container CrossFit</td>\n",
       "      <td>Male</td>\n",
       "      <td>32.0</td>\n",
       "      <td>77.0</td>\n",
       "      <td>225.0</td>\n",
       "      <td>226.0</td>\n",
       "      <td>496.0</td>\n",
       "      <td>174.0</td>\n",
       "      <td>1287.0</td>\n",
       "      <td>393.0</td>\n",
       "      <td>64.0</td>\n",
       "      <td>1325.0</td>\n",
       "      <td>265.0</td>\n",
       "      <td>210.0</td>\n",
       "      <td>415.0</td>\n",
       "      <td>335.0</td>\n",
       "      <td>32.0</td>\n",
       "      <td>1.0</td>\n",
       "    </tr>\n",
       "    <tr>\n",
       "      <th>4</th>\n",
       "      <td>4</td>\n",
       "      <td>88</td>\n",
       "      <td>1</td>\n",
       "      <td>368.0</td>\n",
       "      <td>262.0</td>\n",
       "      <td>149.0</td>\n",
       "      <td>197.0</td>\n",
       "      <td>694.0</td>\n",
       "      <td>188.0</td>\n",
       "      <td>306.0</td>\n",
       "      <td>267.0</td>\n",
       "      <td>491.0</td>\n",
       "      <td>117.0</td>\n",
       "      <td>408.0</td>\n",
       "      <td>164.0</td>\n",
       "      <td>323.0</td>\n",
       "      <td>261.0</td>\n",
       "      <td>105.0</td>\n",
       "      <td>132.0</td>\n",
       "      <td>Cary Hair</td>\n",
       "      <td>Northern California</td>\n",
       "      <td>CrossFit Santa Cruz</td>\n",
       "      <td>CrossFit Santa Cruz</td>\n",
       "      <td>Male</td>\n",
       "      <td>30.0</td>\n",
       "      <td>72.0</td>\n",
       "      <td>200.0</td>\n",
       "      <td>140.0</td>\n",
       "      <td>448.0</td>\n",
       "      <td>109.0</td>\n",
       "      <td>1199.0</td>\n",
       "      <td>407.0</td>\n",
       "      <td>54.0</td>\n",
       "      <td>1294.0</td>\n",
       "      <td>315.0</td>\n",
       "      <td>255.0</td>\n",
       "      <td>518.0</td>\n",
       "      <td>455.0</td>\n",
       "      <td>54.0</td>\n",
       "      <td>1.0</td>\n",
       "    </tr>\n",
       "  </tbody>\n",
       "</table>\n",
       "</div>"
      ],
      "text/plain": [
       "   index  athlete_id  division   14.1   14.2   14.3   14.4    14.5   15.1  \\\n",
       "2      2          84         1  308.0  137.0  139.0  187.0   887.0  153.0   \n",
       "3      3          86         1  306.0  132.0  111.0  190.0  1051.0  149.0   \n",
       "4      4          88         1  368.0  262.0  149.0  197.0   694.0  188.0   \n",
       "\n",
       "   15.11   15.2   15.3   15.4   15.5   13.1   13.2   13.3   13.4   13.5  \\\n",
       "2  205.0  125.0  356.0   97.0  717.0  158.0  300.0  260.0   91.0  109.0   \n",
       "3  232.0  117.0  342.0   46.0  518.0  156.0  271.0  255.0   87.0   76.0   \n",
       "4  306.0  267.0  491.0  117.0  408.0  164.0  323.0  261.0  105.0  132.0   \n",
       "\n",
       "            name               region                      team  \\\n",
       "2  Ryan Johnston  Northern California  LaLanne Fitness CrossFit   \n",
       "3   Justin Bergh  Northern California                             \n",
       "4      Cary Hair  Northern California       CrossFit Santa Cruz   \n",
       "\n",
       "                  affiliate gender   age  height  weight   fran  helen  grace  \\\n",
       "2  LaLanne Fitness CrossFit   Male  25.0    68.0   160.0  182.0  -99.0  146.0   \n",
       "3        Container CrossFit   Male  32.0    77.0   225.0  226.0  496.0  174.0   \n",
       "4       CrossFit Santa Cruz   Male  30.0    72.0   200.0  140.0  448.0  109.0   \n",
       "\n",
       "   filthy50  fgonebad  run400   run5k  candj  snatch  deadlift  backsq  \\\n",
       "2    1406.0     322.0   -99.0  1162.0  215.0   195.0     450.0   330.0   \n",
       "3    1287.0     393.0    64.0  1325.0  265.0   210.0     415.0   335.0   \n",
       "4    1199.0     407.0    54.0  1294.0  315.0   255.0     518.0   455.0   \n",
       "\n",
       "   pullups  gender_num  \n",
       "2    -99.0         1.0  \n",
       "3     32.0         1.0  \n",
       "4     54.0         1.0  "
      ]
     },
     "execution_count": 47,
     "metadata": {},
     "output_type": "execute_result"
    }
   ],
   "source": [
    "\n",
    "results_df.dropna(axis=0, subset=['15.2'], inplace=True)\n",
    "results_df.fillna(-99, inplace=True)\n",
    "results_df.head(3)"
   ]
  },
  {
   "cell_type": "markdown",
   "metadata": {},
   "source": [
    "Split Data"
   ]
  },
  {
   "cell_type": "code",
   "execution_count": 48,
   "metadata": {
    "collapsed": false
   },
   "outputs": [
    {
     "data": {
      "text/plain": [
       "2    125.0\n",
       "3    117.0\n",
       "4    267.0\n",
       "Name: 15.2, dtype: float64"
      ]
     },
     "execution_count": 48,
     "metadata": {},
     "output_type": "execute_result"
    }
   ],
   "source": [
    "y = results_df['15.2'].copy()\n",
    "y.head(3)"
   ]
  },
  {
   "cell_type": "code",
   "execution_count": 55,
   "metadata": {
    "collapsed": false
   },
   "outputs": [
    {
     "data": {
      "text/html": [
       "<div>\n",
       "<table border=\"1\" class=\"dataframe\">\n",
       "  <thead>\n",
       "    <tr style=\"text-align: right;\">\n",
       "      <th></th>\n",
       "      <th>athlete_id</th>\n",
       "      <th>14.1</th>\n",
       "      <th>14.2</th>\n",
       "      <th>14.3</th>\n",
       "      <th>14.4</th>\n",
       "      <th>14.5</th>\n",
       "      <th>15.1</th>\n",
       "      <th>15.11</th>\n",
       "      <th>15.3</th>\n",
       "      <th>15.4</th>\n",
       "      <th>15.5</th>\n",
       "      <th>13.1</th>\n",
       "      <th>13.2</th>\n",
       "      <th>13.3</th>\n",
       "      <th>13.4</th>\n",
       "      <th>13.5</th>\n",
       "      <th>age</th>\n",
       "      <th>height</th>\n",
       "      <th>weight</th>\n",
       "      <th>fran</th>\n",
       "      <th>helen</th>\n",
       "      <th>grace</th>\n",
       "      <th>filthy50</th>\n",
       "      <th>fgonebad</th>\n",
       "      <th>run400</th>\n",
       "      <th>run5k</th>\n",
       "      <th>candj</th>\n",
       "      <th>snatch</th>\n",
       "      <th>deadlift</th>\n",
       "      <th>backsq</th>\n",
       "      <th>pullups</th>\n",
       "    </tr>\n",
       "  </thead>\n",
       "  <tbody>\n",
       "    <tr>\n",
       "      <th>2</th>\n",
       "      <td>84</td>\n",
       "      <td>308.0</td>\n",
       "      <td>137.0</td>\n",
       "      <td>139.0</td>\n",
       "      <td>187.0</td>\n",
       "      <td>887.0</td>\n",
       "      <td>153.0</td>\n",
       "      <td>205.0</td>\n",
       "      <td>356.0</td>\n",
       "      <td>97.0</td>\n",
       "      <td>717.0</td>\n",
       "      <td>158.0</td>\n",
       "      <td>300.0</td>\n",
       "      <td>260.0</td>\n",
       "      <td>91.0</td>\n",
       "      <td>109.0</td>\n",
       "      <td>25.0</td>\n",
       "      <td>68.0</td>\n",
       "      <td>160.0</td>\n",
       "      <td>182.0</td>\n",
       "      <td>-99.0</td>\n",
       "      <td>146.0</td>\n",
       "      <td>1406.0</td>\n",
       "      <td>322.0</td>\n",
       "      <td>-99.0</td>\n",
       "      <td>1162.0</td>\n",
       "      <td>215.0</td>\n",
       "      <td>195.0</td>\n",
       "      <td>450.0</td>\n",
       "      <td>330.0</td>\n",
       "      <td>-99.0</td>\n",
       "    </tr>\n",
       "    <tr>\n",
       "      <th>3</th>\n",
       "      <td>86</td>\n",
       "      <td>306.0</td>\n",
       "      <td>132.0</td>\n",
       "      <td>111.0</td>\n",
       "      <td>190.0</td>\n",
       "      <td>1051.0</td>\n",
       "      <td>149.0</td>\n",
       "      <td>232.0</td>\n",
       "      <td>342.0</td>\n",
       "      <td>46.0</td>\n",
       "      <td>518.0</td>\n",
       "      <td>156.0</td>\n",
       "      <td>271.0</td>\n",
       "      <td>255.0</td>\n",
       "      <td>87.0</td>\n",
       "      <td>76.0</td>\n",
       "      <td>32.0</td>\n",
       "      <td>77.0</td>\n",
       "      <td>225.0</td>\n",
       "      <td>226.0</td>\n",
       "      <td>496.0</td>\n",
       "      <td>174.0</td>\n",
       "      <td>1287.0</td>\n",
       "      <td>393.0</td>\n",
       "      <td>64.0</td>\n",
       "      <td>1325.0</td>\n",
       "      <td>265.0</td>\n",
       "      <td>210.0</td>\n",
       "      <td>415.0</td>\n",
       "      <td>335.0</td>\n",
       "      <td>32.0</td>\n",
       "    </tr>\n",
       "    <tr>\n",
       "      <th>4</th>\n",
       "      <td>88</td>\n",
       "      <td>368.0</td>\n",
       "      <td>262.0</td>\n",
       "      <td>149.0</td>\n",
       "      <td>197.0</td>\n",
       "      <td>694.0</td>\n",
       "      <td>188.0</td>\n",
       "      <td>306.0</td>\n",
       "      <td>491.0</td>\n",
       "      <td>117.0</td>\n",
       "      <td>408.0</td>\n",
       "      <td>164.0</td>\n",
       "      <td>323.0</td>\n",
       "      <td>261.0</td>\n",
       "      <td>105.0</td>\n",
       "      <td>132.0</td>\n",
       "      <td>30.0</td>\n",
       "      <td>72.0</td>\n",
       "      <td>200.0</td>\n",
       "      <td>140.0</td>\n",
       "      <td>448.0</td>\n",
       "      <td>109.0</td>\n",
       "      <td>1199.0</td>\n",
       "      <td>407.0</td>\n",
       "      <td>54.0</td>\n",
       "      <td>1294.0</td>\n",
       "      <td>315.0</td>\n",
       "      <td>255.0</td>\n",
       "      <td>518.0</td>\n",
       "      <td>455.0</td>\n",
       "      <td>54.0</td>\n",
       "    </tr>\n",
       "  </tbody>\n",
       "</table>\n",
       "</div>"
      ],
      "text/plain": [
       "   athlete_id   14.1   14.2   14.3   14.4    14.5   15.1  15.11   15.3   15.4  \\\n",
       "2          84  308.0  137.0  139.0  187.0   887.0  153.0  205.0  356.0   97.0   \n",
       "3          86  306.0  132.0  111.0  190.0  1051.0  149.0  232.0  342.0   46.0   \n",
       "4          88  368.0  262.0  149.0  197.0   694.0  188.0  306.0  491.0  117.0   \n",
       "\n",
       "    15.5   13.1   13.2   13.3   13.4   13.5   age  height  weight   fran  \\\n",
       "2  717.0  158.0  300.0  260.0   91.0  109.0  25.0    68.0   160.0  182.0   \n",
       "3  518.0  156.0  271.0  255.0   87.0   76.0  32.0    77.0   225.0  226.0   \n",
       "4  408.0  164.0  323.0  261.0  105.0  132.0  30.0    72.0   200.0  140.0   \n",
       "\n",
       "   helen  grace  filthy50  fgonebad  run400   run5k  candj  snatch  deadlift  \\\n",
       "2  -99.0  146.0    1406.0     322.0   -99.0  1162.0  215.0   195.0     450.0   \n",
       "3  496.0  174.0    1287.0     393.0    64.0  1325.0  265.0   210.0     415.0   \n",
       "4  448.0  109.0    1199.0     407.0    54.0  1294.0  315.0   255.0     518.0   \n",
       "\n",
       "   backsq  pullups  \n",
       "2   330.0    -99.0  \n",
       "3   335.0     32.0  \n",
       "4   455.0     54.0  "
      ]
     },
     "execution_count": 55,
     "metadata": {},
     "output_type": "execute_result"
    }
   ],
   "source": [
    "X = results_df.copy().drop(['index', 'name', 'region', 'team', 'affiliate', 'gender', 'gender_num', 'division', '15.2'],1)\n",
    "X.head(3)"
   ]
  },
  {
   "cell_type": "code",
   "execution_count": 56,
   "metadata": {
    "collapsed": false
   },
   "outputs": [],
   "source": [
    "train1, test1, target1, testtarget = train_test_split(\n",
    "    X, y, test_size=0.2, random_state=3)"
   ]
  },
  {
   "cell_type": "markdown",
   "metadata": {},
   "source": [
    "Initiate Models"
   ]
  },
  {
   "cell_type": "code",
   "execution_count": 57,
   "metadata": {
    "collapsed": false
   },
   "outputs": [
    {
     "name": "stderr",
     "output_type": "stream",
     "text": [
      "[Parallel(n_jobs=1)]: Done  10 out of  10 | elapsed:   11.9s finished\n"
     ]
    },
    {
     "data": {
      "text/plain": [
       "RandomForestRegressor(bootstrap=True, criterion='mse', max_depth=None,\n",
       "           max_features='auto', max_leaf_nodes=None,\n",
       "           min_impurity_split=1e-07, min_samples_leaf=1,\n",
       "           min_samples_split=2, min_weight_fraction_leaf=0.0,\n",
       "           n_estimators=10, n_jobs=1, oob_score=False, random_state=None,\n",
       "           verbose=True, warm_start=False)"
      ]
     },
     "execution_count": 57,
     "metadata": {},
     "output_type": "execute_result"
    }
   ],
   "source": [
    "rf = RandomForestRegressor(verbose=True)\n",
    "rf.fit(train1,target1, )"
   ]
  },
  {
   "cell_type": "code",
   "execution_count": 58,
   "metadata": {
    "collapsed": false
   },
   "outputs": [
    {
     "data": {
      "text/plain": [
       "LinearRegression(copy_X=True, fit_intercept=True, n_jobs=1, normalize=False)"
      ]
     },
     "execution_count": 58,
     "metadata": {},
     "output_type": "execute_result"
    }
   ],
   "source": [
    "lr = linear_model.LinearRegression()\n",
    "lr.fit(train1,target1)"
   ]
  },
  {
   "cell_type": "markdown",
   "metadata": {},
   "source": [
    "Check Models"
   ]
  },
  {
   "cell_type": "code",
   "execution_count": 70,
   "metadata": {
    "collapsed": false
   },
   "outputs": [
    {
     "name": "stderr",
     "output_type": "stream",
     "text": [
      "[Parallel(n_jobs=1)]: Done  10 out of  10 | elapsed:    0.0s finished\n"
     ]
    },
    {
     "data": {
      "text/plain": [
       "array([  64.4,   66.5,  132.7,  122. ,   55.4])"
      ]
     },
     "execution_count": 70,
     "metadata": {},
     "output_type": "execute_result"
    }
   ],
   "source": [
    "rf_preddict = rf.predict(test1.head())\n",
    "rf_preddict"
   ]
  },
  {
   "cell_type": "code",
   "execution_count": 71,
   "metadata": {
    "collapsed": false
   },
   "outputs": [
    {
     "data": {
      "text/plain": [
       "44396      83.0\n",
       "129660     68.0\n",
       "168047     51.0\n",
       "43830     114.0\n",
       "191808     78.0\n",
       "Name: 15.2, dtype: float64"
      ]
     },
     "execution_count": 71,
     "metadata": {},
     "output_type": "execute_result"
    }
   ],
   "source": [
    "testtarget.head()"
   ]
  },
  {
   "cell_type": "code",
   "execution_count": 72,
   "metadata": {
    "collapsed": false
   },
   "outputs": [
    {
     "data": {
      "text/html": [
       "<div>\n",
       "<table border=\"1\" class=\"dataframe\">\n",
       "  <thead>\n",
       "    <tr style=\"text-align: right;\">\n",
       "      <th></th>\n",
       "      <th>athlete_id</th>\n",
       "      <th>14.1</th>\n",
       "      <th>14.2</th>\n",
       "      <th>14.3</th>\n",
       "      <th>14.4</th>\n",
       "      <th>14.5</th>\n",
       "      <th>15.1</th>\n",
       "      <th>15.11</th>\n",
       "      <th>15.3</th>\n",
       "      <th>15.4</th>\n",
       "      <th>15.5</th>\n",
       "      <th>13.1</th>\n",
       "      <th>13.2</th>\n",
       "      <th>13.3</th>\n",
       "      <th>13.4</th>\n",
       "      <th>13.5</th>\n",
       "      <th>age</th>\n",
       "      <th>height</th>\n",
       "      <th>weight</th>\n",
       "      <th>fran</th>\n",
       "      <th>helen</th>\n",
       "      <th>grace</th>\n",
       "      <th>filthy50</th>\n",
       "      <th>fgonebad</th>\n",
       "      <th>run400</th>\n",
       "      <th>run5k</th>\n",
       "      <th>candj</th>\n",
       "      <th>snatch</th>\n",
       "      <th>deadlift</th>\n",
       "      <th>backsq</th>\n",
       "      <th>pullups</th>\n",
       "    </tr>\n",
       "  </thead>\n",
       "  <tbody>\n",
       "    <tr>\n",
       "      <th>44396</th>\n",
       "      <td>169140</td>\n",
       "      <td>307.0</td>\n",
       "      <td>77.0</td>\n",
       "      <td>113.0</td>\n",
       "      <td>190.0</td>\n",
       "      <td>996.0</td>\n",
       "      <td>-99.0</td>\n",
       "      <td>-99.0</td>\n",
       "      <td>339.0</td>\n",
       "      <td>31.0</td>\n",
       "      <td>687.0</td>\n",
       "      <td>100.0</td>\n",
       "      <td>259.0</td>\n",
       "      <td>244.0</td>\n",
       "      <td>61.0</td>\n",
       "      <td>57.0</td>\n",
       "      <td>32.0</td>\n",
       "      <td>72.0</td>\n",
       "      <td>179.0</td>\n",
       "      <td>-99.0</td>\n",
       "      <td>-99.0</td>\n",
       "      <td>-99.0</td>\n",
       "      <td>-99.0</td>\n",
       "      <td>-99.0</td>\n",
       "      <td>-99.0</td>\n",
       "      <td>-99.0</td>\n",
       "      <td>194.0</td>\n",
       "      <td>-99.0</td>\n",
       "      <td>364.0</td>\n",
       "      <td>254.0</td>\n",
       "      <td>-99.0</td>\n",
       "    </tr>\n",
       "    <tr>\n",
       "      <th>129660</th>\n",
       "      <td>107768</td>\n",
       "      <td>-99.0</td>\n",
       "      <td>-99.0</td>\n",
       "      <td>-99.0</td>\n",
       "      <td>-99.0</td>\n",
       "      <td>-99.0</td>\n",
       "      <td>115.0</td>\n",
       "      <td>198.0</td>\n",
       "      <td>540.0</td>\n",
       "      <td>16.0</td>\n",
       "      <td>858.0</td>\n",
       "      <td>100.0</td>\n",
       "      <td>182.0</td>\n",
       "      <td>240.0</td>\n",
       "      <td>42.0</td>\n",
       "      <td>41.0</td>\n",
       "      <td>37.0</td>\n",
       "      <td>72.0</td>\n",
       "      <td>209.0</td>\n",
       "      <td>409.0</td>\n",
       "      <td>612.0</td>\n",
       "      <td>-99.0</td>\n",
       "      <td>-99.0</td>\n",
       "      <td>-99.0</td>\n",
       "      <td>-99.0</td>\n",
       "      <td>1150.0</td>\n",
       "      <td>220.0</td>\n",
       "      <td>172.0</td>\n",
       "      <td>463.0</td>\n",
       "      <td>309.0</td>\n",
       "      <td>-99.0</td>\n",
       "    </tr>\n",
       "    <tr>\n",
       "      <th>168047</th>\n",
       "      <td>518831</td>\n",
       "      <td>-99.0</td>\n",
       "      <td>-99.0</td>\n",
       "      <td>-99.0</td>\n",
       "      <td>-99.0</td>\n",
       "      <td>-99.0</td>\n",
       "      <td>195.0</td>\n",
       "      <td>165.0</td>\n",
       "      <td>144.0</td>\n",
       "      <td>83.0</td>\n",
       "      <td>600.0</td>\n",
       "      <td>-99.0</td>\n",
       "      <td>-99.0</td>\n",
       "      <td>-99.0</td>\n",
       "      <td>-99.0</td>\n",
       "      <td>-99.0</td>\n",
       "      <td>31.0</td>\n",
       "      <td>-99.0</td>\n",
       "      <td>-99.0</td>\n",
       "      <td>-99.0</td>\n",
       "      <td>-99.0</td>\n",
       "      <td>-99.0</td>\n",
       "      <td>-99.0</td>\n",
       "      <td>-99.0</td>\n",
       "      <td>-99.0</td>\n",
       "      <td>-99.0</td>\n",
       "      <td>-99.0</td>\n",
       "      <td>-99.0</td>\n",
       "      <td>-99.0</td>\n",
       "      <td>-99.0</td>\n",
       "      <td>-99.0</td>\n",
       "    </tr>\n",
       "    <tr>\n",
       "      <th>43830</th>\n",
       "      <td>166964</td>\n",
       "      <td>-99.0</td>\n",
       "      <td>81.0</td>\n",
       "      <td>131.0</td>\n",
       "      <td>182.0</td>\n",
       "      <td>984.0</td>\n",
       "      <td>150.0</td>\n",
       "      <td>230.0</td>\n",
       "      <td>332.0</td>\n",
       "      <td>45.0</td>\n",
       "      <td>579.0</td>\n",
       "      <td>146.0</td>\n",
       "      <td>206.0</td>\n",
       "      <td>240.0</td>\n",
       "      <td>68.0</td>\n",
       "      <td>55.0</td>\n",
       "      <td>28.0</td>\n",
       "      <td>72.0</td>\n",
       "      <td>205.0</td>\n",
       "      <td>372.0</td>\n",
       "      <td>-99.0</td>\n",
       "      <td>253.0</td>\n",
       "      <td>-99.0</td>\n",
       "      <td>-99.0</td>\n",
       "      <td>-99.0</td>\n",
       "      <td>1380.0</td>\n",
       "      <td>215.0</td>\n",
       "      <td>155.0</td>\n",
       "      <td>435.0</td>\n",
       "      <td>315.0</td>\n",
       "      <td>-99.0</td>\n",
       "    </tr>\n",
       "    <tr>\n",
       "      <th>191808</th>\n",
       "      <td>576161</td>\n",
       "      <td>-99.0</td>\n",
       "      <td>-99.0</td>\n",
       "      <td>-99.0</td>\n",
       "      <td>-99.0</td>\n",
       "      <td>-99.0</td>\n",
       "      <td>150.0</td>\n",
       "      <td>135.0</td>\n",
       "      <td>826.0</td>\n",
       "      <td>80.0</td>\n",
       "      <td>677.0</td>\n",
       "      <td>-99.0</td>\n",
       "      <td>-99.0</td>\n",
       "      <td>-99.0</td>\n",
       "      <td>-99.0</td>\n",
       "      <td>-99.0</td>\n",
       "      <td>29.0</td>\n",
       "      <td>-99.0</td>\n",
       "      <td>195.0</td>\n",
       "      <td>-99.0</td>\n",
       "      <td>-99.0</td>\n",
       "      <td>-99.0</td>\n",
       "      <td>-99.0</td>\n",
       "      <td>-99.0</td>\n",
       "      <td>-99.0</td>\n",
       "      <td>-99.0</td>\n",
       "      <td>-99.0</td>\n",
       "      <td>-99.0</td>\n",
       "      <td>-99.0</td>\n",
       "      <td>-99.0</td>\n",
       "      <td>-99.0</td>\n",
       "    </tr>\n",
       "  </tbody>\n",
       "</table>\n",
       "</div>"
      ],
      "text/plain": [
       "        athlete_id   14.1  14.2   14.3   14.4   14.5   15.1  15.11   15.3  \\\n",
       "44396       169140  307.0  77.0  113.0  190.0  996.0  -99.0  -99.0  339.0   \n",
       "129660      107768  -99.0 -99.0  -99.0  -99.0  -99.0  115.0  198.0  540.0   \n",
       "168047      518831  -99.0 -99.0  -99.0  -99.0  -99.0  195.0  165.0  144.0   \n",
       "43830       166964  -99.0  81.0  131.0  182.0  984.0  150.0  230.0  332.0   \n",
       "191808      576161  -99.0 -99.0  -99.0  -99.0  -99.0  150.0  135.0  826.0   \n",
       "\n",
       "        15.4   15.5   13.1   13.2   13.3  13.4  13.5   age  height  weight  \\\n",
       "44396   31.0  687.0  100.0  259.0  244.0  61.0  57.0  32.0    72.0   179.0   \n",
       "129660  16.0  858.0  100.0  182.0  240.0  42.0  41.0  37.0    72.0   209.0   \n",
       "168047  83.0  600.0  -99.0  -99.0  -99.0 -99.0 -99.0  31.0   -99.0   -99.0   \n",
       "43830   45.0  579.0  146.0  206.0  240.0  68.0  55.0  28.0    72.0   205.0   \n",
       "191808  80.0  677.0  -99.0  -99.0  -99.0 -99.0 -99.0  29.0   -99.0   195.0   \n",
       "\n",
       "         fran  helen  grace  filthy50  fgonebad  run400   run5k  candj  \\\n",
       "44396   -99.0  -99.0  -99.0     -99.0     -99.0   -99.0   -99.0  194.0   \n",
       "129660  409.0  612.0  -99.0     -99.0     -99.0   -99.0  1150.0  220.0   \n",
       "168047  -99.0  -99.0  -99.0     -99.0     -99.0   -99.0   -99.0  -99.0   \n",
       "43830   372.0  -99.0  253.0     -99.0     -99.0   -99.0  1380.0  215.0   \n",
       "191808  -99.0  -99.0  -99.0     -99.0     -99.0   -99.0   -99.0  -99.0   \n",
       "\n",
       "        snatch  deadlift  backsq  pullups  \n",
       "44396    -99.0     364.0   254.0    -99.0  \n",
       "129660   172.0     463.0   309.0    -99.0  \n",
       "168047   -99.0     -99.0   -99.0    -99.0  \n",
       "43830    155.0     435.0   315.0    -99.0  \n",
       "191808   -99.0     -99.0   -99.0    -99.0  "
      ]
     },
     "execution_count": 72,
     "metadata": {},
     "output_type": "execute_result"
    }
   ],
   "source": [
    "test1.head()"
   ]
  },
  {
   "cell_type": "code",
   "execution_count": null,
   "metadata": {
    "collapsed": true
   },
   "outputs": [],
   "source": []
  },
  {
   "cell_type": "code",
   "execution_count": 65,
   "metadata": {
    "collapsed": false
   },
   "outputs": [
    {
     "data": {
      "text/plain": [
       "array([  80.93179235,   86.14274476,  110.67593856,   90.38599216,\n",
       "         65.67390091])"
      ]
     },
     "execution_count": 65,
     "metadata": {},
     "output_type": "execute_result"
    }
   ],
   "source": [
    "lr_predict = lr.predict(train1.head())\n",
    "lr_predict"
   ]
  },
  {
   "cell_type": "code",
   "execution_count": 67,
   "metadata": {
    "collapsed": false
   },
   "outputs": [
    {
     "data": {
      "text/plain": [
       "array([  79.21589617,   84.22137238,  107.63796928,   74.54299608,\n",
       "         80.33695045])"
      ]
     },
     "execution_count": 67,
     "metadata": {},
     "output_type": "execute_result"
    }
   ],
   "source": [
    "(rf_preddict + lr_predict)/2"
   ]
  },
  {
   "cell_type": "code",
   "execution_count": 68,
   "metadata": {
    "collapsed": false
   },
   "outputs": [
    {
     "data": {
      "text/plain": [
       "190761     84.0\n",
       "194361    121.0\n",
       "681       111.0\n",
       "180404     63.0\n",
       "204128     80.0\n",
       "Name: 15.2, dtype: float64"
      ]
     },
     "execution_count": 68,
     "metadata": {},
     "output_type": "execute_result"
    }
   ],
   "source": [
    "target1.head()"
   ]
  },
  {
   "cell_type": "code",
   "execution_count": null,
   "metadata": {
    "collapsed": true
   },
   "outputs": [],
   "source": []
  }
 ],
 "metadata": {
  "kernelspec": {
   "display_name": "Python [Root]",
   "language": "python",
   "name": "Python [Root]"
  },
  "language_info": {
   "codemirror_mode": {
    "name": "ipython",
    "version": 2
   },
   "file_extension": ".py",
   "mimetype": "text/x-python",
   "name": "python",
   "nbconvert_exporter": "python",
   "pygments_lexer": "ipython2",
   "version": "2.7.12"
  }
 },
 "nbformat": 4,
 "nbformat_minor": 0
}
